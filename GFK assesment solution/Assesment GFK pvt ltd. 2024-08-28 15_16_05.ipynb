{
 "cells": [
  {
   "cell_type": "code",
   "execution_count": 0,
   "metadata": {
    "application/vnd.databricks.v1+cell": {
     "cellMetadata": {
      "byteLimit": 2048000,
      "rowLimit": 10000
     },
     "inputWidgets": {},
     "nuid": "8cf7525b-8121-4685-ad5c-29a794df443e",
     "showTitle": false,
     "title": ""
    }
   },
   "outputs": [
    {
     "output_type": "display_data",
     "data": {
      "text/html": [
       "\n",
       "            <div>\n",
       "                <p><b>SparkSession - hive</b></p>\n",
       "                \n",
       "        <div>\n",
       "            <p><b>SparkContext</b></p>\n",
       "\n",
       "            <p><a href=\"/?o=902043658485045#setting/sparkui/0828-094729-exs2vz2b/driver-3396047136789151488\">Spark UI</a></p>\n",
       "\n",
       "            <dl>\n",
       "              <dt>Version</dt>\n",
       "                <dd><code>v3.3.2</code></dd>\n",
       "              <dt>Master</dt>\n",
       "                <dd><code>local[8]</code></dd>\n",
       "              <dt>AppName</dt>\n",
       "                <dd><code>Databricks Shell</code></dd>\n",
       "            </dl>\n",
       "        </div>\n",
       "        \n",
       "            </div>\n",
       "        "
      ]
     },
     "metadata": {
      "application/vnd.databricks.v1+output": {
       "addedWidgets": {},
       "arguments": {},
       "data": "\n            <div>\n                <p><b>SparkSession - hive</b></p>\n                \n        <div>\n            <p><b>SparkContext</b></p>\n\n            <p><a href=\"/?o=902043658485045#setting/sparkui/0828-094729-exs2vz2b/driver-3396047136789151488\">Spark UI</a></p>\n\n            <dl>\n              <dt>Version</dt>\n                <dd><code>v3.3.2</code></dd>\n              <dt>Master</dt>\n                <dd><code>local[8]</code></dd>\n              <dt>AppName</dt>\n                <dd><code>Databricks Shell</code></dd>\n            </dl>\n        </div>\n        \n            </div>\n        ",
       "datasetInfos": [],
       "metadata": {},
       "removedWidgets": [],
       "textData": null,
       "type": "htmlSandbox"
      }
     },
     "output_type": "display_data"
    }
   ],
   "source": [
    "spark\n"
   ]
  },
  {
   "cell_type": "markdown",
   "metadata": {
    "application/vnd.databricks.v1+cell": {
     "cellMetadata": {},
     "inputWidgets": {},
     "nuid": "c974739c-06ad-403e-9aaa-3aa932eb1375",
     "showTitle": false,
     "title": ""
    }
   },
   "source": [
    "%fs mkdirs /FileStore/GFK_data\n",
    "\n",
    "%fs ls /FileStore/GFK_data"
   ]
  },
  {
   "cell_type": "markdown",
   "metadata": {
    "application/vnd.databricks.v1+cell": {
     "cellMetadata": {},
     "inputWidgets": {},
     "nuid": "dc040cd9-c1c7-4cae-87ef-3ffc563ea37e",
     "showTitle": false,
     "title": ""
    }
   },
   "source": [
    "Initialize Spark session"
   ]
  },
  {
   "cell_type": "code",
   "execution_count": 0,
   "metadata": {
    "application/vnd.databricks.v1+cell": {
     "cellMetadata": {
      "byteLimit": 2048000,
      "rowLimit": 10000
     },
     "inputWidgets": {},
     "nuid": "72730516-bc14-46a9-a254-03f7e5d538f4",
     "showTitle": false,
     "title": ""
    }
   },
   "outputs": [],
   "source": [
    "from pyspark.sql import SparkSession\n",
    "spark = SparkSession.builder.appName(\"MovieRatings\").getOrCreate()"
   ]
  },
  {
   "cell_type": "markdown",
   "metadata": {
    "application/vnd.databricks.v1+cell": {
     "cellMetadata": {},
     "inputWidgets": {},
     "nuid": "96dae361-8a9a-4060-afe8-85b3dcfab0f5",
     "showTitle": false,
     "title": ""
    }
   },
   "source": [
    "Load data and Assign columnn names to data"
   ]
  },
  {
   "cell_type": "code",
   "execution_count": 0,
   "metadata": {
    "application/vnd.databricks.v1+cell": {
     "cellMetadata": {
      "byteLimit": 2048000,
      "rowLimit": 10000
     },
     "inputWidgets": {},
     "nuid": "50a604e9-cc42-49a9-9c40-1b91e59944d7",
     "showTitle": false,
     "title": ""
    }
   },
   "outputs": [],
   "source": [
    "movie_df = spark.read.csv(\"dbfs:/FileStore/GFK_data/movies.dat\",header = False, sep= '::')\n",
    "movie_df = movie_df.toDF(\"MovieID\",\"Title\",\"Genres\")\n",
    "\n",
    "ratings_df = spark.read.csv(\"dbfs:/FileStore/GFK_data/ratings.dat\",header = False, sep= '::')\n",
    "ratings_df = ratings_df.toDF(\"UserID\",\"MovieID\",\"Rating\",\"Timestamp\")\n",
    "\n",
    "users_df = spark.read.csv(\"dbfs:/FileStore/GFK_data/users.dat\", header = False, sep = '::')\n",
    "users_df = users_df.toDF(\"UserID\",\"Gender\",\"Age\",\"Occupation\",\"Zip-Code\")"
   ]
  },
  {
   "cell_type": "markdown",
   "metadata": {
    "application/vnd.databricks.v1+cell": {
     "cellMetadata": {},
     "inputWidgets": {},
     "nuid": "efa424f2-41a1-465f-a442-978f0c624df9",
     "showTitle": false,
     "title": ""
    }
   },
   "source": [
    "shows loaded data"
   ]
  },
  {
   "cell_type": "code",
   "execution_count": 0,
   "metadata": {
    "application/vnd.databricks.v1+cell": {
     "cellMetadata": {
      "byteLimit": 2048000,
      "rowLimit": 10000
     },
     "inputWidgets": {},
     "nuid": "f6360259-9d52-49c5-aa0b-c7fb2599a6ee",
     "showTitle": false,
     "title": ""
    }
   },
   "outputs": [
    {
     "output_type": "stream",
     "name": "stdout",
     "output_type": "stream",
     "text": [
      "+-------+----------------------------------+----------------------------+\n|MovieID|Title                             |Genres                      |\n+-------+----------------------------------+----------------------------+\n|1      |Toy Story (1995)                  |Animation|Children's|Comedy |\n|2      |Jumanji (1995)                    |Adventure|Children's|Fantasy|\n|3      |Grumpier Old Men (1995)           |Comedy|Romance              |\n|4      |Waiting to Exhale (1995)          |Comedy|Drama                |\n|5      |Father of the Bride Part II (1995)|Comedy                      |\n|6      |Heat (1995)                       |Action|Crime|Thriller       |\n|7      |Sabrina (1995)                    |Comedy|Romance              |\n|8      |Tom and Huck (1995)               |Adventure|Children's        |\n|9      |Sudden Death (1995)               |Action                      |\n|10     |GoldenEye (1995)                  |Action|Adventure|Thriller   |\n+-------+----------------------------------+----------------------------+\nonly showing top 10 rows\n\n+------+-------+------+---------+\n|UserID|MovieID|Rating|Timestamp|\n+------+-------+------+---------+\n|1     |1193   |5     |978300760|\n|1     |661    |3     |978302109|\n|1     |914    |3     |978301968|\n|1     |3408   |4     |978300275|\n|1     |2355   |5     |978824291|\n|1     |1197   |3     |978302268|\n|1     |1287   |5     |978302039|\n|1     |2804   |5     |978300719|\n|1     |594    |4     |978302268|\n|1     |919    |4     |978301368|\n+------+-------+------+---------+\nonly showing top 10 rows\n\n+------+------+---+----------+--------+\n|UserID|Gender|Age|Occupation|Zip-Code|\n+------+------+---+----------+--------+\n|1     |F     |1  |10        |48067   |\n|2     |M     |56 |16        |70072   |\n|3     |M     |25 |15        |55117   |\n|4     |M     |45 |7         |02460   |\n|5     |M     |25 |20        |55455   |\n|6     |F     |50 |9         |55117   |\n|7     |M     |35 |1         |06810   |\n|8     |M     |25 |12        |11413   |\n|9     |M     |25 |17        |61614   |\n|10    |F     |35 |1         |95370   |\n+------+------+---+----------+--------+\nonly showing top 10 rows\n\n"
     ]
    }
   ],
   "source": [
    "movie_df.show(10,truncate = False)\n",
    "ratings_df.show(10,truncate = False)\n",
    "users_df.show(10,truncate = False)"
   ]
  },
  {
   "cell_type": "markdown",
   "metadata": {
    "application/vnd.databricks.v1+cell": {
     "cellMetadata": {},
     "inputWidgets": {},
     "nuid": "4254f0bc-10c3-44cd-9261-e0b6040a1d5d",
     "showTitle": false,
     "title": ""
    }
   },
   "source": [
    "importing require functions"
   ]
  },
  {
   "cell_type": "code",
   "execution_count": 0,
   "metadata": {
    "application/vnd.databricks.v1+cell": {
     "cellMetadata": {
      "byteLimit": 2048000,
      "rowLimit": 10000
     },
     "inputWidgets": {},
     "nuid": "4c8d638e-c4ae-4481-b583-cbd69efe9038",
     "showTitle": false,
     "title": ""
    }
   },
   "outputs": [],
   "source": [
    "from pyspark.sql.functions import split,col,avg,explode"
   ]
  },
  {
   "cell_type": "markdown",
   "metadata": {
    "application/vnd.databricks.v1+cell": {
     "cellMetadata": {},
     "inputWidgets": {},
     "nuid": "3aebc752-23d3-45b1-aa7c-b7536cdca8a5",
     "showTitle": false,
     "title": ""
    }
   },
   "source": [
    "filtering users by age "
   ]
  },
  {
   "cell_type": "code",
   "execution_count": 0,
   "metadata": {
    "application/vnd.databricks.v1+cell": {
     "cellMetadata": {
      "byteLimit": 2048000,
      "rowLimit": 10000
     },
     "inputWidgets": {},
     "nuid": "c7962a14-1357-461b-82cd-ef0492e7b0b7",
     "showTitle": false,
     "title": ""
    }
   },
   "outputs": [
    {
     "output_type": "stream",
     "name": "stdout",
     "output_type": "stream",
     "text": [
      "+------+------+---+----------+--------+\n|UserID|Gender|Age|Occupation|Zip-Code|\n+------+------+---+----------+--------+\n|     3|     M| 25|        15|   55117|\n|     4|     M| 45|         7|   02460|\n|     5|     M| 25|        20|   55455|\n|     7|     M| 35|         1|   06810|\n|     8|     M| 25|        12|   11413|\n|     9|     M| 25|        17|   61614|\n|    10|     F| 35|         1|   95370|\n|    11|     F| 25|         1|   04093|\n|    12|     M| 25|        12|   32793|\n|    13|     M| 45|         1|   93304|\n+------+------+---+----------+--------+\nonly showing top 10 rows\n\n"
     ]
    }
   ],
   "source": [
    "filtered_user_df = users_df.filter((col(\"Age\") >= 18) & (col(\"Age\") <= 49))\n",
    "filtered_user_df.show(10)"
   ]
  },
  {
   "cell_type": "markdown",
   "metadata": {
    "application/vnd.databricks.v1+cell": {
     "cellMetadata": {},
     "inputWidgets": {},
     "nuid": "204654ad-786f-4e18-bd0e-53c9b1bf0e5a",
     "showTitle": false,
     "title": ""
    }
   },
   "source": [
    "filtering movie by year (> 1989)"
   ]
  },
  {
   "cell_type": "code",
   "execution_count": 0,
   "metadata": {
    "application/vnd.databricks.v1+cell": {
     "cellMetadata": {
      "byteLimit": 2048000,
      "rowLimit": 10000
     },
     "inputWidgets": {},
     "nuid": "d5acb81e-d274-4339-8e40-6e4e2899e8d5",
     "showTitle": false,
     "title": ""
    }
   },
   "outputs": [
    {
     "output_type": "stream",
     "name": "stdout",
     "output_type": "stream",
     "text": [
      "+-------+--------------------+--------------------+----+\n|MovieID|               Title|              Genres|Year|\n+-------+--------------------+--------------------+----+\n|      1|    Toy Story (1995)|Animation|Childre...|1995|\n|      2|      Jumanji (1995)|Adventure|Childre...|1995|\n|      3|Grumpier Old Men ...|      Comedy|Romance|1995|\n|      4|Waiting to Exhale...|        Comedy|Drama|1995|\n|      5|Father of the Bri...|              Comedy|1995|\n|      6|         Heat (1995)|Action|Crime|Thri...|1995|\n|      7|      Sabrina (1995)|      Comedy|Romance|1995|\n|      8| Tom and Huck (1995)|Adventure|Children's|1995|\n|      9| Sudden Death (1995)|              Action|1995|\n|     10|    GoldenEye (1995)|Action|Adventure|...|1995|\n+-------+--------------------+--------------------+----+\nonly showing top 10 rows\n\n"
     ]
    }
   ],
   "source": [
    "movie_df1 = movie_df.withColumn(\"Year\",split(col(\"Title\"),\"\\(\").getItem(1).substr(1,4).cast(\"int\"))\n",
    "filtered_movie_df = movie_df1.filter(col(\"Year\") > 1989)\n",
    "filtered_movie_df.show(10)"
   ]
  },
  {
   "cell_type": "markdown",
   "metadata": {
    "application/vnd.databricks.v1+cell": {
     "cellMetadata": {},
     "inputWidgets": {},
     "nuid": "b3f2d680-a08e-42c1-b169-04b2078de674",
     "showTitle": false,
     "title": ""
    }
   },
   "source": [
    "Joining dataframes"
   ]
  },
  {
   "cell_type": "code",
   "execution_count": 0,
   "metadata": {
    "application/vnd.databricks.v1+cell": {
     "cellMetadata": {
      "byteLimit": 2048000,
      "rowLimit": 10000
     },
     "inputWidgets": {},
     "nuid": "867a68d0-8d4d-46ed-84d7-8288ec6d10d2",
     "showTitle": false,
     "title": ""
    }
   },
   "outputs": [
    {
     "output_type": "stream",
     "name": "stdout",
     "output_type": "stream",
     "text": [
      "+-------+------+------+---------+------+---+----------+--------+---------------------------+------------------------------+----+\n|MovieID|UserID|Rating|Timestamp|Gender|Age|Occupation|Zip-Code|Title                      |Genres                        |Year|\n+-------+------+------+---------+------+---+----------+--------+---------------------------+------------------------------+----+\n|1641   |3     |2     |978298430|M     |25 |15        |55117   |Full Monty, The (1997)     |Comedy                        |1997|\n|648    |3     |3     |978297867|M     |25 |15        |55117   |Mission: Impossible (1996) |Action|Adventure|Mystery      |1996|\n|3534   |3     |3     |978297068|M     |25 |15        |55117   |28 Days (2000)             |Comedy                        |2000|\n|104    |3     |4     |978298486|M     |25 |15        |55117   |Happy Gilmore (1996)       |Comedy                        |1996|\n|1431   |3     |3     |978297095|M     |25 |15        |55117   |Beverly Hills Ninja (1997) |Action|Comedy                 |1997|\n|2997   |3     |3     |978298147|M     |25 |15        |55117   |Being John Malkovich (1999)|Comedy                        |1999|\n|1615   |3     |5     |978297710|M     |25 |15        |55117   |Edge, The (1997)           |Adventure|Thriller            |1997|\n|653    |3     |4     |978297757|M     |25 |15        |55117   |Dragonheart (1996)         |Action|Adventure|Fantasy      |1996|\n|2167   |3     |5     |978297600|M     |25 |15        |55117   |Blade (1998)               |Action|Adventure|Horror       |1998|\n|1580   |3     |3     |978297663|M     |25 |15        |55117   |Men in Black (1997)        |Action|Adventure|Comedy|Sci-Fi|1997|\n+-------+------+------+---------+------+---+----------+--------+---------------------------+------------------------------+----+\nonly showing top 10 rows\n\n"
     ]
    }
   ],
   "source": [
    "joined_df = ratings_df.join(filtered_user_df,\"UserID\").join(filtered_movie_df,\"MovieID\")\n",
    "joined_df.show(10,truncate = False)"
   ]
  },
  {
   "cell_type": "markdown",
   "metadata": {
    "application/vnd.databricks.v1+cell": {
     "cellMetadata": {},
     "inputWidgets": {},
     "nuid": "0fcae466-7990-4b9a-8435-759edd67909c",
     "showTitle": false,
     "title": ""
    }
   },
   "source": [
    "Handle genres"
   ]
  },
  {
   "cell_type": "code",
   "execution_count": 0,
   "metadata": {
    "application/vnd.databricks.v1+cell": {
     "cellMetadata": {
      "byteLimit": 2048000,
      "rowLimit": 10000
     },
     "inputWidgets": {},
     "nuid": "0cc2ca2c-e1df-4137-8f77-ce6e2e326ce1",
     "showTitle": false,
     "title": ""
    }
   },
   "outputs": [
    {
     "output_type": "stream",
     "name": "stdout",
     "output_type": "stream",
     "text": [
      "+-------+------+------+---------+------+---+----------+--------+---------------------------+------------------------+----+---------+\n|MovieID|UserID|Rating|Timestamp|Gender|Age|Occupation|Zip-Code|Title                      |Genres                  |Year|Genre    |\n+-------+------+------+---------+------+---+----------+--------+---------------------------+------------------------+----+---------+\n|1641   |3     |2     |978298430|M     |25 |15        |55117   |Full Monty, The (1997)     |Comedy                  |1997|Comedy   |\n|648    |3     |3     |978297867|M     |25 |15        |55117   |Mission: Impossible (1996) |Action|Adventure|Mystery|1996|Action   |\n|648    |3     |3     |978297867|M     |25 |15        |55117   |Mission: Impossible (1996) |Action|Adventure|Mystery|1996|Adventure|\n|648    |3     |3     |978297867|M     |25 |15        |55117   |Mission: Impossible (1996) |Action|Adventure|Mystery|1996|Mystery  |\n|3534   |3     |3     |978297068|M     |25 |15        |55117   |28 Days (2000)             |Comedy                  |2000|Comedy   |\n|104    |3     |4     |978298486|M     |25 |15        |55117   |Happy Gilmore (1996)       |Comedy                  |1996|Comedy   |\n|1431   |3     |3     |978297095|M     |25 |15        |55117   |Beverly Hills Ninja (1997) |Action|Comedy           |1997|Action   |\n|1431   |3     |3     |978297095|M     |25 |15        |55117   |Beverly Hills Ninja (1997) |Action|Comedy           |1997|Comedy   |\n|2997   |3     |3     |978298147|M     |25 |15        |55117   |Being John Malkovich (1999)|Comedy                  |1999|Comedy   |\n|1615   |3     |5     |978297710|M     |25 |15        |55117   |Edge, The (1997)           |Adventure|Thriller      |1997|Adventure|\n+-------+------+------+---------+------+---+----------+--------+---------------------------+------------------------+----+---------+\nonly showing top 10 rows\n\n"
     ]
    }
   ],
   "source": [
    "gen_df = joined_df.withColumn(\"Genre\",explode(split(col(\"Genres\"),\"\\\\|\")))\n",
    "gen_df.show(10,truncate = False)"
   ]
  },
  {
   "cell_type": "markdown",
   "metadata": {
    "application/vnd.databricks.v1+cell": {
     "cellMetadata": {},
     "inputWidgets": {},
     "nuid": "f8b09310-e18c-47b8-8c82-e1cd8f584bbb",
     "showTitle": false,
     "title": ""
    }
   },
   "source": [
    "Calculating average rating per genre per year"
   ]
  },
  {
   "cell_type": "code",
   "execution_count": 0,
   "metadata": {
    "application/vnd.databricks.v1+cell": {
     "cellMetadata": {
      "byteLimit": 2048000,
      "rowLimit": 10000
     },
     "inputWidgets": {},
     "nuid": "f2ceac2b-fd96-496e-a214-c95a3e301c52",
     "showTitle": false,
     "title": ""
    }
   },
   "outputs": [
    {
     "output_type": "stream",
     "name": "stdout",
     "output_type": "stream",
     "text": [
      "+-----------+----+------------------+\n|Genre      |Year|AvgRating         |\n+-----------+----+------------------+\n|Horror     |1990|3.1979010494752624|\n|Documentary|1997|3.8688212927756656|\n|Romance    |1998|3.4995221712538225|\n|Children's |1992|3.259950248756219 |\n|Children's |1998|3.383314020857474 |\n|Mystery    |1997|3.5251304586652017|\n|Animation  |1995|3.9835735836406303|\n|Adventure  |1996|3.2408491947291362|\n|Documentary|1996|4.10814606741573  |\n|Horror     |1994|3.0444659255679074|\n+-----------+----+------------------+\nonly showing top 10 rows\n\n"
     ]
    }
   ],
   "source": [
    "avg_ratings_df = gen_df.groupBy(\"Genre\",\"Year\").agg(avg(\"Rating\").alias(\"AvgRating\"))\n",
    "avg_ratings_df.show(10,truncate = False)"
   ]
  },
  {
   "cell_type": "markdown",
   "metadata": {
    "application/vnd.databricks.v1+cell": {
     "cellMetadata": {},
     "inputWidgets": {},
     "nuid": "35265d97-9831-4005-80a6-894d1c30169c",
     "showTitle": false,
     "title": ""
    }
   },
   "source": [
    "%fs mkdirs /FileStore/GFK_data/results"
   ]
  },
  {
   "cell_type": "markdown",
   "metadata": {
    "application/vnd.databricks.v1+cell": {
     "cellMetadata": {},
     "inputWidgets": {},
     "nuid": "acd15632-170d-4b4a-82dd-dd4fbdee1481",
     "showTitle": false,
     "title": ""
    }
   },
   "source": [
    "saving results "
   ]
  },
  {
   "cell_type": "code",
   "execution_count": 0,
   "metadata": {
    "application/vnd.databricks.v1+cell": {
     "cellMetadata": {
      "byteLimit": 2048000,
      "rowLimit": 10000
     },
     "inputWidgets": {},
     "nuid": "36e49e94-b346-486c-93f2-61430786f063",
     "showTitle": false,
     "title": ""
    }
   },
   "outputs": [],
   "source": [
    "avg_ratings_df.write.csv(\"dbfs:/FileStore/GFK_data/results\",header= True, mode = \"Overwrite\")"
   ]
  },
  {
   "cell_type": "code",
   "execution_count": 0,
   "metadata": {
    "application/vnd.databricks.v1+cell": {
     "cellMetadata": {
      "byteLimit": 2048000,
      "rowLimit": 10000
     },
     "inputWidgets": {},
     "nuid": "7ccfbfee-46a9-466c-a46e-e813215399ca",
     "showTitle": false,
     "title": ""
    }
   },
   "outputs": [
    {
     "output_type": "display_data",
     "data": {
      "text/html": [
       "<style scoped>\n",
       "  .table-result-container {\n",
       "    max-height: 300px;\n",
       "    overflow: auto;\n",
       "  }\n",
       "  table, th, td {\n",
       "    border: 1px solid black;\n",
       "    border-collapse: collapse;\n",
       "  }\n",
       "  th, td {\n",
       "    padding: 5px;\n",
       "  }\n",
       "  th {\n",
       "    text-align: left;\n",
       "  }\n",
       "</style><div class='table-result-container'><table class='table-result'><thead style='background-color: white'><tr><th>path</th><th>name</th><th>size</th><th>modificationTime</th></tr></thead><tbody><tr><td>dbfs:/FileStore/GFK_data/results/_SUCCESS</td><td>_SUCCESS</td><td>0</td><td>1724846293000</td></tr><tr><td>dbfs:/FileStore/GFK_data/results/_committed_7236810653229926080</td><td>_committed_7236810653229926080</td><td>112</td><td>1724846293000</td></tr><tr><td>dbfs:/FileStore/GFK_data/results/_started_7236810653229926080</td><td>_started_7236810653229926080</td><td>0</td><td>1724846292000</td></tr><tr><td>dbfs:/FileStore/GFK_data/results/part-00000-tid-7236810653229926080-b01d1c8c-151a-44e3-8303-9965cb5ac8c3-54-1-c000.csv</td><td>part-00000-tid-7236810653229926080-b01d1c8c-151a-44e3-8303-9965cb5ac8c3-54-1-c000.csv</td><td>5888</td><td>1724846293000</td></tr></tbody></table></div>"
      ]
     },
     "metadata": {
      "application/vnd.databricks.v1+output": {
       "addedWidgets": {},
       "aggData": [],
       "aggError": "",
       "aggOverflow": false,
       "aggSchema": [],
       "aggSeriesLimitReached": false,
       "aggType": "",
       "arguments": {},
       "columnCustomDisplayInfos": {},
       "data": [
        [
         "dbfs:/FileStore/GFK_data/results/_SUCCESS",
         "_SUCCESS",
         0,
         1724846293000
        ],
        [
         "dbfs:/FileStore/GFK_data/results/_committed_7236810653229926080",
         "_committed_7236810653229926080",
         112,
         1724846293000
        ],
        [
         "dbfs:/FileStore/GFK_data/results/_started_7236810653229926080",
         "_started_7236810653229926080",
         0,
         1724846292000
        ],
        [
         "dbfs:/FileStore/GFK_data/results/part-00000-tid-7236810653229926080-b01d1c8c-151a-44e3-8303-9965cb5ac8c3-54-1-c000.csv",
         "part-00000-tid-7236810653229926080-b01d1c8c-151a-44e3-8303-9965cb5ac8c3-54-1-c000.csv",
         5888,
         1724846293000
        ]
       ],
       "datasetInfos": [],
       "dbfsResultPath": null,
       "isJsonSchema": true,
       "metadata": {
        "isDbfsCommandResult": false
       },
       "overflow": false,
       "plotOptions": {
        "customPlotOptions": {},
        "displayType": "table",
        "pivotAggregation": null,
        "pivotColumns": null,
        "xColumns": null,
        "yColumns": null
       },
       "removedWidgets": [],
       "schema": [
        {
         "metadata": "{}",
         "name": "path",
         "type": "\"string\""
        },
        {
         "metadata": "{}",
         "name": "name",
         "type": "\"string\""
        },
        {
         "metadata": "{}",
         "name": "size",
         "type": "\"long\""
        },
        {
         "metadata": "{}",
         "name": "modificationTime",
         "type": "\"long\""
        }
       ],
       "type": "table"
      }
     },
     "output_type": "display_data"
    }
   ],
   "source": [
    "%fs ls /FileStore/GFK_data/results"
   ]
  }
 ],
 "metadata": {
  "application/vnd.databricks.v1+notebook": {
   "dashboards": [],
   "environmentMetadata": null,
   "language": "python",
   "notebookMetadata": {
    "mostRecentlyExecutedCommandWithImplicitDF": {
     "commandId": 2308811885260866,
     "dataframes": [
      "_sqldf"
     ]
    },
    "pythonIndentUnit": 4
   },
   "notebookName": "Assesment GFK pvt ltd. 2024-08-28 15:16:05",
   "widgets": {}
  }
 },
 "nbformat": 4,
 "nbformat_minor": 0
}
